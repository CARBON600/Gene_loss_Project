{
 "cells": [
  {
   "cell_type": "code",
   "execution_count": 30,
   "id": "b316d387-c7ce-42ba-8c70-43e7337072bc",
   "metadata": {},
   "outputs": [
    {
     "name": "stdout",
     "output_type": "stream",
     "text": [
      "4932.YOR137C\t4932\tSaccharomyces cerevisiae\tSIA1\tProtein of unassigned function; involved in activation of the Pma1p plasma membrane H+-ATPase by glucose; contains peptide signal for membrane localization.\n",
      "找到的 STRING 蛋白质 ID 列表： ['4932.YOR137C']\n"
     ]
    }
   ],
   "source": [
    "import requests \n",
    "import csv\n",
    "###Look for sequence ID based on FASTA seqences\n",
    "\n",
    "#    my_sequence = \"\"\"\n",
    "#    >example_sequence\n",
    "#    MADEEKLPPGWEKRMSRSSGRVYYFNHITNASQWERPSGNSSSGSRGPTAAWGSSAASS\n",
    "#    \"\"\"\n",
    "def get_STRING_id(sequence,species):\n",
    "    blast_url = \"https://string-db.org/api/tsv-no-header/resolve\"\n",
    "    blast_params = {\n",
    "        \"sequence\": sequence,  # 查询的蛋白质序列\n",
    "        \"species\": species,  # NCBI 物种标识符（9606 代表人类）\n",
    "        \"caller_identity\": \"cuhk\"  # 替换为你的应用名称或标识符\n",
    "    }\n",
    "    response = requests.post(blast_url, data=blast_params)\n",
    "    if response.status_code == 200:\n",
    "        matched_proteins = []\n",
    "        for line in response.text.strip().split(\"\\n\"):\n",
    "            print(line)\n",
    "            columns = line.split(\"\\t\")\n",
    "            if len(columns) > 1:\n",
    "                protein_id = columns[0]  \n",
    "                matched_proteins.append(protein_id)\n",
    "        if matched_proteins:\n",
    "            print(\"找到的 STRING 蛋白质 ID 列表：\", matched_proteins)\n",
    "        else:\n",
    "            print(\"未找到匹配的蛋白质\")\n",
    "    else:\n",
    "        print(f\"BLAST 查询失败，状态码: {response.status_code}\")\n",
    "s = \"\"\"\n",
    ">AEI93967.1 putative carbohydrate kinase [Roseobacter litoralis Och 149]\n",
    "MAISILNRSNLPLDLLQKKQGHKFDHGHALVLSGGVGRTGAARLAAMAALRIGAGVVSIGTPPAAISEVA\n",
    "AHISALMVRKIKTPHDLEIALSDKRISALCVGPGFGTSPAQIGLIEEILAAKRATVLDADAITLLAMNRE\n",
    "LCTLLHPACVLTPHAGEFARLFPDTSAEAFAASIDKRAEVTINAAHDMGCIVIAKGEDTLVADHNGHVYL\n",
    "HQATGARAAPWLATAGSGDVLAGFITGLMARGFTPLEAAKVAVWLHVECAITFGPGLIAEDLPAVLPKVL\n",
    "RKLLV\n",
    "\"\"\"\n",
    "get_STRING_id(s,\"auto-detect\")"
   ]
  },
  {
   "cell_type": "code",
   "execution_count": 31,
   "id": "7ff75542-0597-40a7-94a3-729ed10be63b",
   "metadata": {},
   "outputs": [],
   "source": [
    "### Look for interaction based on sequence ID\n",
    "\n",
    "def get_interaction_info(output_file,gene_list,species):\n",
    "    output_format=output_file.split(\".\")[-1]\n",
    "    string_api_url = \"https://version-11-5.string-db.org/api\"\n",
    "    method = \"network\"\n",
    "    request_url = \"/\".join([string_api_url, output_format, method])\n",
    "    params = {  \n",
    "        \"identifiers\" : \"%0d\".join(gene_list), \n",
    "        \"species\" : species, \n",
    "        \"caller_identity\" : \"cuhk\" \n",
    "    }\n",
    "    \n",
    "    response = requests.post(request_url, data=params)\n",
    "    if response.status_code == 200:\n",
    "        with open(output_file, \"w\") as file:\n",
    "            file.write(response.text)\n",
    "    else:\n",
    "        print(f\"请求失败，状态码: {response.status_code}\")\n",
    "\n",
    "get_interaction_info(\"/home-user/ymchen/4932.YOR137C_download.tsv\",[\"4932.YOR137C\"],\"auto-detect\")"
   ]
  },
  {
   "cell_type": "code",
   "execution_count": 36,
   "id": "3c975bc6-0ba3-432f-ace0-22cd9b796eff",
   "metadata": {},
   "outputs": [
    {
     "name": "stdout",
     "output_type": "stream",
     "text": [
      "去重后包含目标值 '4932.YGL008C' 的行数为: 3\n"
     ]
    }
   ],
   "source": [
    "###extract interaction information from tsv file \n",
    "###need list(set())\n",
    "import csv\n",
    "def get_connectivity(tsv_file,target_seq):\n",
    "    count = 0\n",
    "    unique_rows = set()\n",
    "    with open(tsv_file, mode='r', newline='', encoding='utf-8') as file:\n",
    "        tsv_reader = csv.reader(file, delimiter='\\t')\n",
    "        for row in tsv_reader:\n",
    "            unique_rows.add(tuple(row))\n",
    "    for row in unique_rows:\n",
    "        if target_seq in row:\n",
    "            count += 1\n",
    "    \n",
    "    print(f\"去重后包含目标值 '{target_seq}' 的行数为: {count}\")\n",
    "get_connectivity(\"/home-user/ymchen/4932.YOR137C_download.tsv\",\"4932.YGL008C\")"
   ]
  },
  {
   "cell_type": "code",
   "execution_count": null,
   "id": "78ff383b-7da8-4d4c-aff3-b2a4c11c2339",
   "metadata": {},
   "outputs": [],
   "source": [
    "### carry out connectivity calculation of ortholog for pseudogenes"
   ]
  },
  {
   "cell_type": "code",
   "execution_count": null,
   "id": "df0da4e2-6a36-4e35-94c3-02f15320f0b2",
   "metadata": {},
   "outputs": [],
   "source": []
  }
 ],
 "metadata": {
  "kernelspec": {
   "display_name": "Python 3 (ipykernel)",
   "language": "python",
   "name": "python3"
  },
  "language_info": {
   "codemirror_mode": {
    "name": "ipython",
    "version": 3
   },
   "file_extension": ".py",
   "mimetype": "text/x-python",
   "name": "python",
   "nbconvert_exporter": "python",
   "pygments_lexer": "ipython3",
   "version": "3.12.3"
  }
 },
 "nbformat": 4,
 "nbformat_minor": 5
}
