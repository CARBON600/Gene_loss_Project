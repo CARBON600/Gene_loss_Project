{
 "cells": [
  {
   "cell_type": "code",
   "execution_count": 9,
   "id": "66533d8a-6a71-4f63-9040-9d575c3c2d5d",
   "metadata": {},
   "outputs": [],
   "source": [
    "import os\n",
    "import click \n",
    "import multiprocessing \n",
    "import glob\n",
    "import pandas as pd \n",
    "from Bio import SeqIO\n",
    "KOFAMSCAN_exe = '/mnt/storage3/yfdai/download/kofamscan/bin/exec_annotation'\n",
    "KOFAMSCAN_profiles = '/mnt/home-db/pub/protein_db/kegg/v20230301/profiles'\n",
    "KOFAMSCAN_ko_list = '/mnt/home-db/pub/protein_db/kegg/v20230301/ko_list'"
   ]
  },
  {
   "cell_type": "code",
   "execution_count": null,
   "id": "591ae2cb-24dc-4932-a1dd-c3f106f5f654",
   "metadata": {},
   "outputs": [],
   "source": [
    "#integrate file for annotation\n",
    "def integrate_faagbk(input_folder,target_folder):\n",
    "    try:\n",
    "        os.makedirs(target_folder, exist_ok=True)\n",
    "    except OSError as err:\n",
    "        if err.errno == os.errno.EEXIST and os.path.isdir(folder_path):\n",
    "            pass\n",
    "        else:\n",
    "            raise\n",
    "    "
   ]
  },
  {
   "cell_type": "code",
   "execution_count": null,
   "id": "49d4f623-8e67-4e6a-9745-0860e3384280",
   "metadata": {},
   "outputs": [],
   "source": [
    "###now start annotation\n",
    "### use dys pipeline now(need to be fixed)\n",
    "#python3 /mnt/storage3/yfdai/material/dysfunctional_dectector/raw_workflow/s1.annotation.py -fi /mnt/storage3/yfdai/material/ruegeria/GNM000011965_result/GNM000011965.faa /mnt/storage3/yfdai/material/ruegeria/GNM000011965_result/GNM000011965.gbk -o /mnt/storage3/yfdai/new_op\n",
    "def run_annotation(target_folder,faa,gbk):\n",
    "    wd = target_folder\n",
    "    os.system(f\"python3 /mnt/storage3/yfdai/material/dysfunctional_dectector/raw_workflow/s1.annotation.py -fi {faa} {gbk} -o {wd}/annotation_result\")\n",
    "    \n",
    "def kofamscan_annotation(target_folder,pros):\n",
    "    wd = target_folder\n",
    "    try:\n",
    "        os.makedirs(f\"{wd}/annotation_result\", exist_ok=True)\n",
    "    except OSError as err:\n",
    "        if err.errno == os.errno.EEXIST and os.path.isdir(folder_path):\n",
    "            pass\n",
    "        else:\n",
    "            raise\n",
    "    params=[]\n",
    "    pattern = os.path.join(f\"{wd}/preflow/prokka_result\", '**', '*.faa')\n",
    "    faa_files = glob.glob(pattern, recursive=True)\n",
    "    pattern = os.path.join(f\"{wd}/preflow/prokka_result\", '**', '*.gbk')\n",
    "    gbk_files = glob.glob(pattern, recursive=True)\n",
    "    for faapath in faa_files:\n",
    "        dict_name=faapath.split(\"/\")[-2]\n",
    "        for gbkpath in gbk_files:\n",
    "            dict_n=gbkpath.split(\"/\")[-2]\n",
    "            if dict_n == dict_name:\n",
    "                params.append((wd,faapath,gbkpath))\n",
    "#prokka --compliant --cpus 4 --outdir /mnt/storage3/yfdai/material/ruegeria/GNM000011965_result --prefix GNM000011965 --locustag GNM000011965 /mnt/storage3/yfdai/material/ruegeria/GNM000011965.fna\n",
    "    with multiprocessing.Pool(processes=pros) as pool:\n",
    "        pool.starmap(run_annotation,params)\n",
    "        pool.close\n",
    "        pool.join"
   ]
  },
  {
   "cell_type": "code",
   "execution_count": null,
   "id": "4170cce4-1c4f-4dc4-863f-6588ad2a6049",
   "metadata": {},
   "outputs": [],
   "source": [
    "kofamscan_annotation(2)"
   ]
  },
  {
   "cell_type": "code",
   "execution_count": null,
   "id": "a310bba0-9463-47e8-a415-4c972b748687",
   "metadata": {},
   "outputs": [],
   "source": [
    "###refine annotation\n",
    "def get_refined_annotation(in_folder,out_folder):\n",
    "    os.system(f\"python3 /mnt/storage3/yfdai/material/dysfunctional_dectector/raw_workflow/s2.refine_annotation.py -o {out_folder}/s2out mlworkflow -i {in_folder} -nt 25 -rp\")\n",
    "#another account\n",
    "#python3 /mnt/storage3/yfdai/material/dysfunctional_dectector/raw_workflow/s2.refine_annotation.py -o /mnt/storage3/yfdai/material/gene_loss/s2out mlworkflow -i /mnt/storage3/yfdai/material/gene_loss/annotation_result -nt 25 -rp"
   ]
  },
  {
   "cell_type": "code",
   "execution_count": 13,
   "id": "1aab7019-19b9-4b50-99af-7233d4ea07a4",
   "metadata": {},
   "outputs": [],
   "source": [
    "###merge the result of s1\n",
    "#,fnn_file\n",
    "def get_refined_pf_sequence_one(pos_file,fnn_file,target_file):\n",
    "    container={}\n",
    "    df = pd.read_csv(pos_file, sep='\\t')\n",
    "    filtered_df = df[df['pseudogenized'] != 'NOT']\n",
    "    psgene_list = filtered_df.iloc[:, 0].tolist()\n",
    "    with open(fnn_file, 'r') as file,open(target_file, 'w') as outfile:\n",
    "        for record in SeqIO.parse(file, 'fasta'):\n",
    "            if record.id in psgene_list:\n",
    "                container[record.id]=record\n",
    "        ordered_container = {key: container[key] for key in psgene_list if key in container}\n",
    "        for seq_id,sequence in ordered_container.items():\n",
    "            SeqIO.write(sequence, outfile, 'fasta')\n",
    "\n",
    "def get_pf_sequence_all(pos_folder,fnn_folder,target_folder):\n",
    "    try:\n",
    "        os.makedirs(target_folder, exist_ok=True)\n",
    "    except OSError as err:\n",
    "        if err.errno == os.errno.EEXIST and os.path.isdir(target_folder):\n",
    "            pass\n",
    "        else:\n",
    "            raise\n",
    "    for filename in os.listdir(pos_folder):\n",
    "        pos_name=filename.rsplit(\"_\",1)[0]\n",
    "        pos_path = os.path.join(pos_folder, filename)\n",
    "        for fnn_file in os.listdir(fnn_folder):\n",
    "            fnn_name=fnn_file.rsplit(\".\",1)[0]\n",
    "            fnn_path = os.path.join(fnn_folder, fnn_file)\n",
    "            if fnn_name==pos_name:\n",
    "                get_refined_pf_sequence_one(pos_path,fnn_path,f\"{target_folder}/{fnn_name}.fnn\")\n",
    "    \n",
    "#def find_more_pseudos():\n",
    "#    os.system(f\"python3 /mnt/storage3/yfdai/material/dysfunctional_dectector/raw_workflow/s2.refine_annotation.py -o /mnt/storage3/yfdai/material/gene_loss/merge_result mlworkflow -i /mnt/storage3/yfdai/material/gene_loss/annotation_result -nt 20 -rp\")\n",
    "#get_refined_pf_sequence_one(\"/mnt/storage3/yfdai/new_op/pos/CE2_pos.tsv\",\"/mnt/maple/ymchen/gene_loss/preflow/prokka_result/CE2/CE2.ffn\",\"/mnt/maple/ymchen/gene_loss/CE2_pseudo.fnn\")    "
   ]
  },
  {
   "cell_type": "code",
   "execution_count": null,
   "id": "e5172fc7-52ba-44a8-ac0d-c60dc5245397",
   "metadata": {},
   "outputs": [],
   "source": []
  }
 ],
 "metadata": {
  "kernelspec": {
   "display_name": "Python 3 (ipykernel)",
   "language": "python",
   "name": "python3"
  },
  "language_info": {
   "codemirror_mode": {
    "name": "ipython",
    "version": 3
   },
   "file_extension": ".py",
   "mimetype": "text/x-python",
   "name": "python",
   "nbconvert_exporter": "python",
   "pygments_lexer": "ipython3",
   "version": "3.12.3"
  }
 },
 "nbformat": 4,
 "nbformat_minor": 5
}
